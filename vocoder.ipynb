{
 "cells": [
  {
   "cell_type": "code",
   "execution_count": 148,
   "id": "91ace0b2",
   "metadata": {},
   "outputs": [
    {
     "name": "stdout",
     "output_type": "stream",
     "text": [
      "Requirement already satisfied: pyworld in d:\\studies\\py\\python base\\lib\\site-packages (0.3.2)\n",
      "Requirement already satisfied: numpy in d:\\studies\\py\\python base\\lib\\site-packages (from pyworld) (1.23.3)\n",
      "Requirement already satisfied: cython in d:\\studies\\py\\python base\\lib\\site-packages (from pyworld) (0.29.33)\n"
     ]
    },
    {
     "name": "stderr",
     "output_type": "stream",
     "text": [
      "\n",
      "[notice] A new release of pip available: 22.2.2 -> 23.0.1\n",
      "[notice] To update, run: python.exe -m pip install --upgrade pip\n"
     ]
    },
    {
     "name": "stdout",
     "output_type": "stream",
     "text": [
      "Collecting resampy\n",
      "  Downloading resampy-0.4.2-py3-none-any.whl (3.1 MB)\n",
      "     ---------------------------------------- 3.1/3.1 MB 639.2 kB/s eta 0:00:00\n",
      "Requirement already satisfied: numpy>=1.17 in d:\\studies\\py\\python base\\lib\\site-packages (from resampy) (1.23.3)\n",
      "Requirement already satisfied: numba>=0.53 in d:\\studies\\py\\python base\\lib\\site-packages (from resampy) (0.56.2)\n",
      "Collecting setuptools<60\n",
      "  Using cached setuptools-59.8.0-py3-none-any.whl (952 kB)\n",
      "Requirement already satisfied: llvmlite<0.40,>=0.39.0dev0 in d:\\studies\\py\\python base\\lib\\site-packages (from numba>=0.53->resampy) (0.39.1)\n",
      "Installing collected packages: setuptools, resampy\n",
      "  Attempting uninstall: setuptools\n",
      "    Found existing installation: setuptools 65.3.0\n",
      "    Uninstalling setuptools-65.3.0:\n",
      "      Successfully uninstalled setuptools-65.3.0\n",
      "Successfully installed resampy-0.4.2 setuptools-59.8.0\n"
     ]
    },
    {
     "name": "stderr",
     "output_type": "stream",
     "text": [
      "ERROR: pip's dependency resolver does not currently take into account all the packages that are installed. This behaviour is the source of the following dependency conflicts.\n",
      "tensorflow-gpu 2.10.0 requires keras<2.11,>=2.10.0, but you have keras 2.11.0 which is incompatible.\n",
      "tensorflow-gpu 2.10.0 requires tensorboard<2.11,>=2.10, but you have tensorboard 2.11.2 which is incompatible.\n",
      "tensorflow-gpu 2.10.0 requires tensorflow-estimator<2.11,>=2.10.0, but you have tensorflow-estimator 2.11.0 which is incompatible.\n",
      "ipykernel 6.11.0 requires setuptools>=60, but you have setuptools 59.8.0 which is incompatible.\n",
      "\n",
      "[notice] A new release of pip available: 22.2.2 -> 23.0.1\n",
      "[notice] To update, run: python.exe -m pip install --upgrade pip\n"
     ]
    }
   ],
   "source": [
    "!pip install pyworld\n",
    "!pip install resampy"
   ]
  },
  {
   "cell_type": "code",
   "execution_count": 156,
   "id": "71db3885",
   "metadata": {},
   "outputs": [],
   "source": [
    "import wave\n",
    "import pyworld as pw\n",
    "from scipy.io import wavfile\n",
    "from scipy.io.wavfile import write\n",
    "\n",
    "import resampy\n",
    "from scipy import interpolate\n",
    "\n",
    "import numpy as np"
   ]
  },
  {
   "cell_type": "code",
   "execution_count": 186,
   "id": "acbd8f01",
   "metadata": {},
   "outputs": [],
   "source": [
    "obj = wave.open(\"193326__margo_heston__wuh.wav\",\"rb\")"
   ]
  },
  {
   "cell_type": "code",
   "execution_count": 187,
   "id": "e61d78de",
   "metadata": {},
   "outputs": [
    {
     "name": "stdout",
     "output_type": "stream",
     "text": [
      "_wave_params(nchannels=1, sampwidth=2, framerate=44100, nframes=89523, comptype='NONE', compname='not compressed')\n"
     ]
    }
   ],
   "source": [
    "print(obj.getparams())"
   ]
  },
  {
   "cell_type": "code",
   "execution_count": 188,
   "id": "c0ca836c",
   "metadata": {},
   "outputs": [
    {
     "name": "stdout",
     "output_type": "stream",
     "text": [
      "<class 'bytes'>\n",
      "179046\n"
     ]
    }
   ],
   "source": [
    "frames = obj.readframes(-1)\n",
    "print(type(frames))\n",
    "print(len(frames))"
   ]
  },
  {
   "cell_type": "code",
   "execution_count": 237,
   "id": "8a75d758",
   "metadata": {},
   "outputs": [
    {
     "name": "stdout",
     "output_type": "stream",
     "text": [
      "28224\n",
      "[ -8   9  -2 ... -15 -11 -13]\n",
      "44100\n"
     ]
    }
   ],
   "source": [
    "rate , raw = wavfile.read(\"syllable.wav\")\n",
    "warr = np.array(raw)\n",
    "print(len(warr))\n",
    "print(warr)\n",
    "mono = (warr).astype(\"double\")\n",
    "print(rate)"
   ]
  },
  {
   "cell_type": "code",
   "execution_count": 238,
   "id": "2a7ce50d",
   "metadata": {},
   "outputs": [],
   "source": [
    "f0, sp, ap = pw.wav2world(mono, 44100.0)"
   ]
  },
  {
   "cell_type": "code",
   "execution_count": 239,
   "id": "89c8e447",
   "metadata": {},
   "outputs": [
    {
     "name": "stdout",
     "output_type": "stream",
     "text": [
      "456917\n",
      "[-1783. -1834. -1966. ...    -3.    -3.    -3.]\n"
     ]
    }
   ],
   "source": [
    "brate , braw = wavfile.read(\"193326__margo_heston__wuh.wav\")\n",
    "bwarr = np.array(braw)\n",
    "print(len(bwarr))\n",
    "bmono = (bwarr).astype(\"double\")\n",
    "print(bmono)"
   ]
  },
  {
   "cell_type": "code",
   "execution_count": 240,
   "id": "9a66e2f9",
   "metadata": {},
   "outputs": [
    {
     "name": "stdout",
     "output_type": "stream",
     "text": [
      "192000\n",
      "44100\n"
     ]
    }
   ],
   "source": [
    "print(brate)\n",
    "print(rate)"
   ]
  },
  {
   "cell_type": "code",
   "execution_count": 278,
   "id": "a84b4b53",
   "metadata": {},
   "outputs": [],
   "source": [
    "bf0, bsp, bap = pw.wav2world(bmono, 44100.0)"
   ]
  },
  {
   "cell_type": "code",
   "execution_count": 279,
   "id": "02bed83a",
   "metadata": {},
   "outputs": [
    {
     "name": "stdout",
     "output_type": "stream",
     "text": [
      "2073\n",
      "[ 412.92808388  439.74750291  457.473361    466.66910661  465.69564464\n",
      "  455.63608671  446.34929205  426.60155715  400.05043113  375.06091798\n",
      "  352.021982    334.8931306   325.34448695  327.35088869  336.72381587\n",
      "  361.57042844  399.76477119  439.44798493  489.63780261  550.62863655\n",
      "  614.57724626  676.93313859  740.24539266  802.06332099  858.23159835\n",
      "  908.50359646  952.5026246   989.99602409 1021.61472348 1047.71860783\n",
      " 1069.27499849 1087.49888816 1101.40841158 1108.97796058 1115.96384552\n",
      " 1121.77225844 1120.32792196 1119.4018737  1116.97489452 1110.43237461\n",
      " 1100.64079086 1089.19120416 1075.34751254 1060.49784623 1048.5222275\n",
      " 1032.38480281 1015.56797198 1007.04508186 1004.3245807   997.73096024\n",
      "  994.54875839  993.12135546  989.2202881   988.09984064  986.18281696\n",
      "  988.28986154  989.28790102  986.11414733  980.99013516  972.34886344\n",
      "  962.81691422  950.3287572   940.13459975  935.31996738  933.97851661\n",
      "  937.45221361  941.83634831  951.19988035  967.2400058   987.20709169\n",
      " 1012.14691093 1039.09002843 1068.74283054 1097.3713139  1127.22934907\n",
      " 1159.28627116 1188.4127014  1215.4087496  1236.06285065 1254.60129754\n",
      " 1268.33339709 1274.56466496 1278.64472419 1279.12896271 1274.53092438\n",
      " 1260.09217155 1236.1331986  1210.8611163  1180.82322105 1143.27015781\n",
      " 1102.19262474 1054.10962781 1007.22486329  958.20603648  911.43978073\n",
      "  874.29085692  839.19991757  810.58078503  789.94998059  778.8603114\n",
      "  772.44894686  772.02384657  780.36502488  792.74227719  807.76223628\n",
      "  822.15227996  832.5219284   841.37143226  846.47630026  841.76435296\n",
      "  829.47151226  816.0657684   801.99521567  789.55758414  780.26139135\n",
      "  766.84114042  763.86159033  764.72458778  769.07817127  779.69191119\n",
      "  790.65782544  806.24568194  817.32115006  827.31760297  831.87502713\n",
      "  822.51074814  806.23812275  779.24872951  740.77049573]\n"
     ]
    }
   ],
   "source": [
    "kernel = np.hamming(30)\n",
    "print(len(bf0))\n",
    "bf0 = resampy.resample(bf0, len(bf0), len(f0))\n",
    "bsmooth= np.convolve(bf0, kernel,mode = 'same')\n",
    "print(bsmooth)"
   ]
  },
  {
   "cell_type": "code",
   "execution_count": 301,
   "id": "13aca8b1",
   "metadata": {},
   "outputs": [
    {
     "name": "stdout",
     "output_type": "stream",
     "text": [
      "196.93405090544394\n",
      "59.16922358193157\n",
      "196.93405090544394\n",
      "129\n",
      "177.24064581489958\n"
     ]
    }
   ],
   "source": [
    "\n",
    "#b_norm = (bsmooth-np.min(bsmooth))/(np.max(bsmooth)-np.min(bsmooth))\n",
    "b_ts = bsmooth * np.average(f0)/np.average(bsmooth)\n",
    "print(np.average(f0))\n",
    "print(np.average(bf0))\n",
    "print(np.average(b_ts))\n",
    "#b_ts = resampy.resample(b_ts, len(b_norm), len(f0))\n",
    "print(len(b_ts))\n",
    "\n",
    "#fsmooth = b_ts*0.8 + f0*0.8\n",
    "fsmooth = f0*0.9\n",
    "print(np.average(fsmooth))"
   ]
  },
  {
   "cell_type": "code",
   "execution_count": 302,
   "id": "5f6827d5",
   "metadata": {},
   "outputs": [],
   "source": [
    "y = pw.synthesize(fsmooth, sp, ap, 44100.0).astype(\"int32\")"
   ]
  },
  {
   "cell_type": "code",
   "execution_count": 303,
   "id": "37aab7b7",
   "metadata": {
    "scrolled": true
   },
   "outputs": [
    {
     "name": "stdout",
     "output_type": "stream",
     "text": [
      "[0 0 0 ... 6 3 3]\n",
      "28444\n",
      "28224\n"
     ]
    }
   ],
   "source": [
    "print(y)\n",
    "scaled = np.int16((y/np.max(np.abs(y))) * 32767)\n",
    "print(len(scaled))\n",
    "print(len(warr))"
   ]
  },
  {
   "cell_type": "code",
   "execution_count": 304,
   "id": "ca50923f",
   "metadata": {},
   "outputs": [],
   "source": [
    "wavfile.write('test.wav', rate, scaled)"
   ]
  },
  {
   "cell_type": "code",
   "execution_count": null,
   "id": "5f049d20",
   "metadata": {},
   "outputs": [],
   "source": []
  },
  {
   "cell_type": "code",
   "execution_count": null,
   "id": "dacc1faf",
   "metadata": {},
   "outputs": [],
   "source": []
  }
 ],
 "metadata": {
  "kernelspec": {
   "display_name": "Python 3 (ipykernel)",
   "language": "python",
   "name": "python3"
  },
  "language_info": {
   "codemirror_mode": {
    "name": "ipython",
    "version": 3
   },
   "file_extension": ".py",
   "mimetype": "text/x-python",
   "name": "python",
   "nbconvert_exporter": "python",
   "pygments_lexer": "ipython3",
   "version": "3.10.2"
  }
 },
 "nbformat": 4,
 "nbformat_minor": 5
}
